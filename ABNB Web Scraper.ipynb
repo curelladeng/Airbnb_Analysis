{
 "cells": [
  {
   "cell_type": "code",
   "execution_count": 1,
   "metadata": {},
   "outputs": [],
   "source": [
    "import numpy as np\n",
    "import pandas as pd\n",
    "from bs4 import BeautifulSoup\n",
    "import requests\n",
    "\n",
    "from IPython.core.display import display, HTML\n",
    "\n",
    "from selenium import webdriver\n",
    "from selenium.webdriver.common.keys import Keys\n",
    "import time, os\n",
    "\n",
    "import re"
   ]
  },
  {
   "cell_type": "markdown",
   "metadata": {},
   "source": [
    "### Scrape Listing Pages By Using BeautifulSoup"
   ]
  },
  {
   "cell_type": "code",
   "execution_count": null,
   "metadata": {},
   "outputs": [],
   "source": [
    "# Create url list to contain all listing pages\n",
    "url_list = []\n",
    "\n",
    "for page in range(20, 281, 20):\n",
    "    url = \"https://www.airbnb.com/s/South-Lake-Tahoe--CA--United-States/homes?tab_id=home_tab&refinement_paths%5B%5D=%2Fhomes&flexible_trip_dates%5B%5D=june&flexible_trip_dates%5B%5D=may&flexible_trip_lengths%5B%5D=weekend_trip&date_picker_type=calendar&checkin=2021-06-01&checkout=2021-06-06&source=structured_search_input_header&search_type=pagination&place_id=ChIJ4U-l7omFmYARjpEj-0YvG90&federated_search_session_id=83ffa40c-4883-4160-97bb-e1f3fdb22761&items_offset=\"+str(page) + \"&section_offset=3\"\n",
    "    url_list.append(url)"
   ]
  },
  {
   "cell_type": "code",
   "execution_count": null,
   "metadata": {},
   "outputs": [],
   "source": [
    "# Insert the first search page because the url is very different\n",
    "url_first = \"https://www.airbnb.com/s/South-Lake-Tahoe--CA--United-States/homes?tab_id=home_tab&refinement_paths%5B%5D=%2Fhomes&flexible_trip_dates%5B%5D=june&flexible_trip_dates%5B%5D=may&flexible_trip_lengths%5B%5D=weekend_trip&date_picker_type=calendar&checkin=2021-06-01&checkout=2021-06-06&source=structured_search_input_header&search_type=autocomplete_click&query=South%20Lake%20Tahoe%2C%20CA%2C%20United%20States\"\n",
    "url_list.insert(0, url_first)"
   ]
  },
  {
   "cell_type": "code",
   "execution_count": null,
   "metadata": {},
   "outputs": [],
   "source": [
    "len(url_list)"
   ]
  },
  {
   "cell_type": "code",
   "execution_count": null,
   "metadata": {},
   "outputs": [],
   "source": [
    "user_agent = {'User-Agent': 'Mozilla/5.0'}\n",
    "\n",
    "property_name, listing_url, property_type, price = [],[],[],[]\n",
    "reviews = []\n",
    "hostel = []\n",
    "\n",
    "for url in url_list:\n",
    "    response = requests.get(url, headers = user_agent)\n",
    "    soup = BeautifulSoup(response.text, \"html.parser\")\n",
    "    \n",
    "        \n",
    "    for item in soup.select('[itemprop = itemListElement]'):\n",
    "        property_name.append(item.select('meta')[0]['content'])\n",
    "        listing_url.append(item.select('meta')[2]['content'])\n",
    "        property_type.append(item.find_all('div', class_='_b14dlit')[0].text)\n",
    "        price.append(item.find_all('span', class_='_krjbj')[0].text)\n",
    "        \n",
    "        if len(item.find_all('span', class_='_18khxk1'))>0:\n",
    "            reviews.append(item.find_all('span', class_='_18khxk1')[0].text)\n",
    "        else:\n",
    "            reviews.append(\"\")\n",
    "            \n",
    "        if len(item.find_all('div', class_='_kqh46o')) > 0:\n",
    "            hostel.append(item.find_all('div', class_='_kqh46o')[0].text)\n",
    "        else:\n",
    "            hostel.append(\"\")\n",
    "        "
   ]
  },
  {
   "cell_type": "code",
   "execution_count": null,
   "metadata": {},
   "outputs": [],
   "source": [
    "# Save raw data into a dictionary\n",
    "keys = ['url','property_name','type', 'price', 'reviews', 'hostel']\n",
    "listing_dic = dict(zip(keys, [listing_url,\n",
    "                              property_name,\n",
    "                              property_type,\n",
    "                              price,\n",
    "                              reviews,\n",
    "                              hostel]))"
   ]
  },
  {
   "cell_type": "code",
   "execution_count": null,
   "metadata": {},
   "outputs": [],
   "source": [
    "listing_df = pd.DataFrame(listing_dic)"
   ]
  },
  {
   "cell_type": "code",
   "execution_count": null,
   "metadata": {},
   "outputs": [],
   "source": [
    "import sys\n",
    "\n",
    "import pickle\n",
    "import random"
   ]
  },
  {
   "cell_type": "code",
   "execution_count": null,
   "metadata": {},
   "outputs": [],
   "source": [
    "# Save into pickle for future analysis\n",
    "with open('listings_final.pickle', 'wb') as to_write:\n",
    "    pickle.dump(listing_df, to_write)"
   ]
  },
  {
   "cell_type": "code",
   "execution_count": null,
   "metadata": {},
   "outputs": [],
   "source": []
  },
  {
   "cell_type": "markdown",
   "metadata": {},
   "source": [
    "### Scrape Listing Details By Using BeautifulSoup And Selenium"
   ]
  },
  {
   "cell_type": "code",
   "execution_count": 2,
   "metadata": {},
   "outputs": [],
   "source": [
    "chromedriver = \"/Applications/chromedriver\" # path to the chromedriver executable\n",
    "os.environ[\"webdriver.chrome.driver\"] = chromedriver"
   ]
  },
  {
   "cell_type": "code",
   "execution_count": 4,
   "metadata": {},
   "outputs": [
    {
     "data": {
      "text/html": [
       "<div>\n",
       "<style scoped>\n",
       "    .dataframe tbody tr th:only-of-type {\n",
       "        vertical-align: middle;\n",
       "    }\n",
       "\n",
       "    .dataframe tbody tr th {\n",
       "        vertical-align: top;\n",
       "    }\n",
       "\n",
       "    .dataframe thead th {\n",
       "        text-align: right;\n",
       "    }\n",
       "</style>\n",
       "<table border=\"1\" class=\"dataframe\">\n",
       "  <thead>\n",
       "    <tr style=\"text-align: right;\">\n",
       "      <th></th>\n",
       "      <th>url</th>\n",
       "      <th>property_name</th>\n",
       "      <th>type</th>\n",
       "      <th>price</th>\n",
       "      <th>reviews</th>\n",
       "      <th>hostel</th>\n",
       "      <th>url_cleaned</th>\n",
       "    </tr>\n",
       "  </thead>\n",
       "  <tbody>\n",
       "    <tr>\n",
       "      <th>145</th>\n",
       "      <td>www.airbnb.com/hotels/42535128?check_in=2021-0...</td>\n",
       "      <td>Squaw Valley Lodge</td>\n",
       "      <td>Aparthotel in Olympic Valley</td>\n",
       "      <td>$275 per night</td>\n",
       "      <td></td>\n",
       "      <td>3 room types · 99 total rooms on property</td>\n",
       "      <td>https://www.airbnb.com/hotels/42535128?check_i...</td>\n",
       "    </tr>\n",
       "    <tr>\n",
       "      <th>25</th>\n",
       "      <td>www.airbnb.com/rooms/10012754?check_in=2021-06...</td>\n",
       "      <td>Tahoe Stonehenge</td>\n",
       "      <td>Entire house in South Lake Tahoe</td>\n",
       "      <td>$918 per night</td>\n",
       "      <td>4.90 (110 reviews)</td>\n",
       "      <td>12 guests · 5 bedrooms · 8 beds · 4 baths</td>\n",
       "      <td>https://www.airbnb.com/rooms/10012754?check_in...</td>\n",
       "    </tr>\n",
       "    <tr>\n",
       "      <th>241</th>\n",
       "      <td>www.airbnb.com/rooms/10039236?check_in=2021-06...</td>\n",
       "      <td>Vidor Village and Family Retreat #322</td>\n",
       "      <td>Entire condominium in North Lake Tahoe Region</td>\n",
       "      <td>$262 per night</td>\n",
       "      <td>4.0 (16 reviews)</td>\n",
       "      <td>11 guests · 3 bedrooms · 8 beds · 2 baths</td>\n",
       "      <td>https://www.airbnb.com/rooms/10039236?check_in...</td>\n",
       "    </tr>\n",
       "    <tr>\n",
       "      <th>187</th>\n",
       "      <td>www.airbnb.com/rooms/10041987?check_in=2021-06...</td>\n",
       "      <td>Comfortable Lake Tahoe Charmer w/ Hot Tub</td>\n",
       "      <td>Entire house in South Lake Tahoe</td>\n",
       "      <td>$385 per night</td>\n",
       "      <td>4.77 (123 reviews)</td>\n",
       "      <td>8 guests · 4 bedrooms · 5 beds · 2 baths</td>\n",
       "      <td>https://www.airbnb.com/rooms/10041987?check_in...</td>\n",
       "    </tr>\n",
       "    <tr>\n",
       "      <th>241</th>\n",
       "      <td>www.airbnb.com/rooms/10052096?check_in=2021-06...</td>\n",
       "      <td>Northstar Cabin - Summer access to pool and te...</td>\n",
       "      <td>Entire house in North Lake Tahoe Region</td>\n",
       "      <td>$375 per night</td>\n",
       "      <td>4.75 (48 reviews)</td>\n",
       "      <td>9 guests · 4 bedrooms · 6 beds · 2 baths</td>\n",
       "      <td>https://www.airbnb.com/rooms/10052096?check_in...</td>\n",
       "    </tr>\n",
       "  </tbody>\n",
       "</table>\n",
       "</div>"
      ],
      "text/plain": [
       "                                                   url  \\\n",
       "145  www.airbnb.com/hotels/42535128?check_in=2021-0...   \n",
       "25   www.airbnb.com/rooms/10012754?check_in=2021-06...   \n",
       "241  www.airbnb.com/rooms/10039236?check_in=2021-06...   \n",
       "187  www.airbnb.com/rooms/10041987?check_in=2021-06...   \n",
       "241  www.airbnb.com/rooms/10052096?check_in=2021-06...   \n",
       "\n",
       "                                         property_name  \\\n",
       "145                                 Squaw Valley Lodge   \n",
       "25                                    Tahoe Stonehenge   \n",
       "241              Vidor Village and Family Retreat #322   \n",
       "187          Comfortable Lake Tahoe Charmer w/ Hot Tub   \n",
       "241  Northstar Cabin - Summer access to pool and te...   \n",
       "\n",
       "                                              type           price  \\\n",
       "145                   Aparthotel in Olympic Valley  $275 per night   \n",
       "25                Entire house in South Lake Tahoe  $918 per night   \n",
       "241  Entire condominium in North Lake Tahoe Region  $262 per night   \n",
       "187               Entire house in South Lake Tahoe  $385 per night   \n",
       "241        Entire house in North Lake Tahoe Region  $375 per night   \n",
       "\n",
       "                reviews                                     hostel  \\\n",
       "145                      3 room types · 99 total rooms on property   \n",
       "25   4.90 (110 reviews)  12 guests · 5 bedrooms · 8 beds · 4 baths   \n",
       "241    4.0 (16 reviews)  11 guests · 3 bedrooms · 8 beds · 2 baths   \n",
       "187  4.77 (123 reviews)   8 guests · 4 bedrooms · 5 beds · 2 baths   \n",
       "241   4.75 (48 reviews)   9 guests · 4 bedrooms · 6 beds · 2 baths   \n",
       "\n",
       "                                           url_cleaned  \n",
       "145  https://www.airbnb.com/hotels/42535128?check_i...  \n",
       "25   https://www.airbnb.com/rooms/10012754?check_in...  \n",
       "241  https://www.airbnb.com/rooms/10039236?check_in...  \n",
       "187  https://www.airbnb.com/rooms/10041987?check_in...  \n",
       "241  https://www.airbnb.com/rooms/10052096?check_in...  "
      ]
     },
     "execution_count": 4,
     "metadata": {},
     "output_type": "execute_result"
    }
   ],
   "source": [
    "with open('project/listing_master.pickle','rb') as read_file:\n",
    "    listing_master = pickle.load(read_file)\n",
    "\n",
    "listing_master.head()\n"
   ]
  },
  {
   "cell_type": "code",
   "execution_count": 5,
   "metadata": {},
   "outputs": [
    {
     "name": "stdout",
     "output_type": "stream",
     "text": [
      "<class 'pandas.core.frame.DataFrame'>\n",
      "Int64Index: 1349 entries, 145 to 254\n",
      "Data columns (total 7 columns):\n",
      " #   Column         Non-Null Count  Dtype \n",
      "---  ------         --------------  ----- \n",
      " 0   url            1349 non-null   object\n",
      " 1   property_name  1349 non-null   object\n",
      " 2   type           1349 non-null   object\n",
      " 3   price          1349 non-null   object\n",
      " 4   reviews        1349 non-null   object\n",
      " 5   hostel         1349 non-null   object\n",
      " 6   url_cleaned    1349 non-null   object\n",
      "dtypes: object(7)\n",
      "memory usage: 84.3+ KB\n"
     ]
    }
   ],
   "source": [
    "listing_master.info()"
   ]
  },
  {
   "cell_type": "code",
   "execution_count": 6,
   "metadata": {},
   "outputs": [],
   "source": [
    "url_list = listing_master['url_cleaned'].tolist()\n"
   ]
  },
  {
   "cell_type": "code",
   "execution_count": 7,
   "metadata": {},
   "outputs": [
    {
     "data": {
      "text/plain": [
       "1349"
      ]
     },
     "execution_count": 7,
     "metadata": {},
     "output_type": "execute_result"
    }
   ],
   "source": [
    "len(url_list)\n"
   ]
  },
  {
   "cell_type": "code",
   "execution_count": 8,
   "metadata": {},
   "outputs": [],
   "source": [
    "cleanliness = []\n",
    "accuracy = []\n",
    "communication = []\n",
    "location = []\n",
    "checkin = []\n",
    "value = []\n",
    "urls = []\n",
    "response_rate = []\n",
    "host_status = []\n",
    "identify_verify = []\n",
    "neighboorhood = []"
   ]
  },
  {
   "cell_type": "code",
   "execution_count": 331,
   "metadata": {},
   "outputs": [],
   "source": [
    "driver = webdriver.Chrome(chromedriver)\n"
   ]
  },
  {
   "cell_type": "code",
   "execution_count": null,
   "metadata": {},
   "outputs": [],
   "source": [
    "for url in url_list:\n",
    "    urls.append(url)\n",
    "    \n",
    "    driver.get(url)\n",
    "    time.sleep(5+np.random.rand())\n",
    "    soup = BeautifulSoup(driver.page_source, 'html.parser')\n",
    "    try:\n",
    "        if len(soup.find_all('span', class_ = '_4oybiu')) > 0:\n",
    "            cleanliness.append(soup.find_all('span', class_ = '_4oybiu')[0].text)\n",
    "            accuracy.append(soup.find_all('span', class_ = '_4oybiu')[1].text)\n",
    "            communication.append(soup.find_all('span', class_ = '_4oybiu')[2].text)\n",
    "            location.append(soup.find_all('span', class_ = '_4oybiu')[3].text)\n",
    "            checkin.append(soup.find_all('span', class_ = '_4oybiu')[4].text)\n",
    "            value.append(soup.find_all('span', class_ = '_4oybiu')[5].text)\n",
    "        else:\n",
    "            cleanliness.append(None)\n",
    "            accuracy.append(None)\n",
    "            communication.append(None)\n",
    "            location.append(None)\n",
    "            checkin.append(None)\n",
    "            value.append(None)\n",
    "\n",
    "            \n",
    "        if len(soup.find_all('li', class_ = '_1q2lt74', text=re.compile(r'Response rate'))) > 0:\n",
    "            response_rate.append(soup.find_all('li', class_ = '_1q2lt74', text=re.compile(r'Response rate'))[0].text)\n",
    "        else:\n",
    "            response_rate.append(None)\n",
    "            \n",
    "        if len(soup.find_all('span', class_ = '_pog3hg', text = re.compile('Superhost'))) > 0:\n",
    "            host_status.append(soup.find_all('span', class_ = '_pog3hg', text = re.compile('Superhost'))[0].text)\n",
    "        else:\n",
    "            host_status.append(\"Host\")\n",
    "            \n",
    "        if len(soup.find_all('span', class_ = '_pog3hg', text = re.compile('Identity verified'))) >0:\n",
    "            identify_verify.append(soup.find_all('span', class_ = '_pog3hg', text = re.compile('Identity verified'))[0].text)\n",
    "        else:\n",
    "            identify_verify.append(\"Not Verified\")\n",
    "       \n",
    "\n",
    "    except Exception as e:\n",
    "        time.sleep(5+np.random.rand())\n",
    "        pass "
   ]
  },
  {
   "cell_type": "code",
   "execution_count": 15,
   "metadata": {},
   "outputs": [],
   "source": [
    "listings_keys = ['url', 'cleanliness', 'accuracy', 'communication', 'location',\n",
    "                'checkin', 'value', 'response_rate', 'identify_verify','host_status']        \n",
    "listings_dic = dict(zip(listings_keys, [urls,\n",
    "                                        cleanliness,\n",
    "                                        accuracy,\n",
    "                                        communication,\n",
    "                                        location,\n",
    "                                        checkin,\n",
    "                                        value,\n",
    "                                        response_rate,\n",
    "                                        identify_verify,\n",
    "                                        host_status]))  "
   ]
  },
  {
   "cell_type": "code",
   "execution_count": 16,
   "metadata": {},
   "outputs": [],
   "source": [
    "listing_details = pd.DataFrame(listings_dic)"
   ]
  },
  {
   "cell_type": "code",
   "execution_count": 20,
   "metadata": {},
   "outputs": [],
   "source": [
    "with open('listing_details_final.pickle', 'wb') as to_write:\n",
    "    pickle.dump(listing_details, to_write)"
   ]
  },
  {
   "cell_type": "code",
   "execution_count": 158,
   "metadata": {},
   "outputs": [],
   "source": [
    "driver.quit()"
   ]
  },
  {
   "cell_type": "code",
   "execution_count": 341,
   "metadata": {},
   "outputs": [],
   "source": [
    "driver = webdriver.Chrome(chromedriver)"
   ]
  },
  {
   "cell_type": "code",
   "execution_count": 188,
   "metadata": {},
   "outputs": [],
   "source": [
    "#Neighborhood\n",
    "urls,location = [],[]\n",
    "\n",
    "for url in url_list:\n",
    "    urls.append(url)\n",
    "    \n",
    "    driver.get(url)\n",
    "    time.sleep(5+np.random.rand())\n",
    "    soup = BeautifulSoup(driver.page_source, 'html.parser')\n",
    "    try:\n",
    "        if len(soup.find_all('span', class_ = '_169len4r')[0]) > 0:\n",
    "            location.append(soup.find_all('span', class_ = '_169len4r')[0].text)\n",
    "        else:\n",
    "            location.append(None)\n",
    "    \n",
    "    except Exception as e:\n",
    "        time.sleep(8+np.random.rand())\n",
    "        pass \n",
    "\n",
    "   "
   ]
  },
  {
   "cell_type": "code",
   "execution_count": 190,
   "metadata": {},
   "outputs": [],
   "source": [
    "listings_keys = ['url', 'location']        \n",
    "listings_dic = dict(zip(listings_keys, [urls,\n",
    "                                        location])) \n",
    "    "
   ]
  },
  {
   "cell_type": "code",
   "execution_count": 191,
   "metadata": {},
   "outputs": [],
   "source": [
    "location_all = pd.DataFrame(listings_dic)"
   ]
  },
  {
   "cell_type": "code",
   "execution_count": 197,
   "metadata": {},
   "outputs": [],
   "source": [
    "with open('location_all.pickle', 'wb') as to_write:\n",
    "    pickle.dump(location_all, to_write)\n",
    "    "
   ]
  },
  {
   "cell_type": "code",
   "execution_count": 198,
   "metadata": {},
   "outputs": [],
   "source": [
    "driver.quit()"
   ]
  },
  {
   "cell_type": "code",
   "execution_count": null,
   "metadata": {},
   "outputs": [],
   "source": [
    "#Amenities"
   ]
  },
  {
   "cell_type": "code",
   "execution_count": 243,
   "metadata": {},
   "outputs": [],
   "source": [
    "driver = webdriver.Chrome(chromedriver)"
   ]
  },
  {
   "cell_type": "code",
   "execution_count": 306,
   "metadata": {},
   "outputs": [],
   "source": [
    "amenities_dict = dict()"
   ]
  },
  {
   "cell_type": "code",
   "execution_count": 307,
   "metadata": {},
   "outputs": [],
   "source": [
    "for url in add_url:\n",
    "    driver.get(url)\n",
    "    time.sleep(6+np.random.randn())\n",
    "    soup = BeautifulSoup(driver.page_source, 'html.parser')\n",
    "    lst = []\n",
    "    try: \n",
    "        for div in soup.find_all('div', class_ = 'iikjzje dir dir-ltr'):\n",
    "            for item in div.find_all('div', class_=\"\"):\n",
    "                lst.append(item.text)\n",
    "                amenities_dict[url] = lst\n",
    "    except Exception as e:\n",
    "        time.sleep(8+np.random.randn())\n",
    "        pass "
   ]
  },
  {
   "cell_type": "code",
   "execution_count": 308,
   "metadata": {},
   "outputs": [
    {
     "data": {
      "text/plain": [
       "{'https://www.airbnb.com/rooms/49060849?check_in=2021-06-01&check_out=2021-06-06&previous_page_section_name=1000': ['TV with standard cable',\n",
       "  'Cable TV',\n",
       "  'Wifi',\n",
       "  'Pool',\n",
       "  'Kitchen',\n",
       "  'Free parking on premises',\n",
       "  'Indoor fireplace',\n",
       "  'Heating',\n",
       "  'Washer',\n",
       "  'Dryer'],\n",
       " 'https://www.airbnb.com/rooms/9862650?check_in=2021-06-01&check_out=2021-06-06&previous_page_section_name=1000': ['Washer',\n",
       "  'Dryer',\n",
       "  'Smoke alarm',\n",
       "  'Wifi',\n",
       "  'Fire extinguisher',\n",
       "  'Kitchen',\n",
       "  'Essentials',\n",
       "  'Free parking on premises',\n",
       "  'Hair dryer',\n",
       "  'Unavailable: Carbon monoxide alarmCarbon monoxide alarm']}"
      ]
     },
     "execution_count": 308,
     "metadata": {},
     "output_type": "execute_result"
    }
   ],
   "source": [
    "amenities_dict"
   ]
  },
  {
   "cell_type": "code",
   "execution_count": 310,
   "metadata": {},
   "outputs": [],
   "source": [
    "amenities_keys = amenities_dict.keys()"
   ]
  },
  {
   "cell_type": "code",
   "execution_count": 311,
   "metadata": {},
   "outputs": [],
   "source": [
    "df_amenities = pd.DataFrame(amenities_keys, columns = [\"url\"])"
   ]
  },
  {
   "cell_type": "code",
   "execution_count": 312,
   "metadata": {},
   "outputs": [],
   "source": [
    "amenities_vals = amenities_dict.values()"
   ]
  },
  {
   "cell_type": "code",
   "execution_count": 313,
   "metadata": {},
   "outputs": [],
   "source": [
    "df_amenities['vals'] = amenities_vals"
   ]
  },
  {
   "cell_type": "code",
   "execution_count": 329,
   "metadata": {},
   "outputs": [],
   "source": [
    "with open('amenities.pickle', 'wb') as to_write:\n",
    "    pickle.dump(df_amenities, to_write)"
   ]
  },
  {
   "cell_type": "code",
   "execution_count": 366,
   "metadata": {},
   "outputs": [],
   "source": [
    "driver.quit()"
   ]
  }
 ],
 "metadata": {
  "kernelspec": {
   "display_name": "Python 3",
   "language": "python",
   "name": "python3"
  },
  "language_info": {
   "codemirror_mode": {
    "name": "ipython",
    "version": 3
   },
   "file_extension": ".py",
   "mimetype": "text/x-python",
   "name": "python",
   "nbconvert_exporter": "python",
   "pygments_lexer": "ipython3",
   "version": "3.8.8"
  }
 },
 "nbformat": 4,
 "nbformat_minor": 4
}
